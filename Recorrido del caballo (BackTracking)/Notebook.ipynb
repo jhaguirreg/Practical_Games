{
  "nbformat": 4,
  "nbformat_minor": 0,
  "metadata": {
    "colab": {
      "provenance": []
    },
    "kernelspec": {
      "name": "python3",
      "display_name": "Python 3"
    },
    "language_info": {
      "name": "python"
    }
  },
  "cells": [
    {
      "cell_type": "code",
      "execution_count": null,
      "metadata": {
        "id": "NiRiWfBpCk0H"
      },
      "outputs": [],
      "source": [
        "def intentar(i,x,y,q):\n",
        "  k = 0\n",
        "  global q1\n",
        "  while not(q1) and (k < 8):\n",
        "    u = x + mov[k][0]\n",
        "    v = y + mov[k][1]\n",
        "    if u in s and v in s:\n",
        "      if h[u,v] == 0:\n",
        "        h[u,v] = i\n",
        "        if i < ncasillas:\n",
        "          intentar(i+1,u,v,q1)\n",
        "          if not(q1):\n",
        "            h[u,v] = 0\n",
        "        else:\n",
        "          q1 = True\n",
        "    k += 1\n",
        "  return q1"
      ]
    },
    {
      "cell_type": "code",
      "source": [
        "import numpy as np\n",
        "n = 5 # Tamaño del tablero\n",
        "# Valores iniciales\n",
        "x_0=4\n",
        "y_0=0\n",
        "\n",
        "\n",
        "ncasillas = n**2\n",
        "q=True\n",
        "mov=[(2, 1), (1, 2), (-1, 2), (-2, 1), (-2, -1), (-1, -2), (1, -2), (2, -1)] # Movimientos\n",
        "s=list(np.arange(n))\n",
        "h = np.zeros((n,n),dtype=int)\n",
        "q1=False\n",
        "h[x_0,y_0] = 1\n",
        "if intentar(2,x_0,y_0,q):\n",
        "  print(h) # Mostrar solución.\n",
        "else:\n",
        "  print('No hay solución')"
      ],
      "metadata": {
        "id": "miqaudLFATq2",
        "colab": {
          "base_uri": "https://localhost:8080/"
        },
        "outputId": "73098304-7041-4776-a37a-ddb26fc896c0"
      },
      "execution_count": null,
      "outputs": [
        {
          "output_type": "stream",
          "name": "stdout",
          "text": [
            "[[ 1  6 15 10 21]\n",
            " [14  9 20  5 16]\n",
            " [19  2  7 22 11]\n",
            " [ 8 13 24 17  4]\n",
            " [25 18  3 12 23]]\n"
          ]
        }
      ]
    }
  ]
}