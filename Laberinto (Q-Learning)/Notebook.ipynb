{
  "cells": [
    {
      "cell_type": "markdown",
      "metadata": {
        "id": "Ybe8CY07zp7D"
      },
      "source": [
        "## Escenario - Robots en un almacén\n",
        "Una empresa de comercio electrónico en crecimiento está construyendo un nuevo almacén y le gustaría que todas las operaciones de recolección en el nuevo almacén fueran realizadas por robots de almacén.\n",
        "* En el contexto del almacenamiento de comercio electrónico, \"recoger\" es la tarea de reunir artículos individuales de varias ubicaciones en el almacén para cumplir con los pedidos de los clientes.\n",
        "\n",
        "Después de recoger artículos de los estantes, los robots deben llevarlos a una ubicación específica dentro del almacén donde se pueden empaquetar para su envío.\n",
        "\n",
        "Para garantizar la máxima eficiencia y productividad, los robots deberán aprender el camino más corto entre el área de empaque del artículo y todas las demás ubicaciones dentro del almacén donde los robots pueden viajar.\n",
        "* ¡Usaremos Q-learning para realizar esta tarea!\n",
        "\n",
        "#### Importar bibliotecas requeridas"
      ]
    },
    {
      "cell_type": "code",
      "execution_count": null,
      "metadata": {
        "id": "rfdhGGMsw1H7"
      },
      "outputs": [],
      "source": [
        "#importar librerias\n",
        "import numpy as np"
      ]
    },
    {
      "cell_type": "markdown",
      "metadata": {
        "id": "Kq-QPfDnx4Fo"
      },
      "source": [
        "## Definir el entorno\n",
        "El entorno consta de **estados**, **acciones** y **recompensas**. Los estados y las acciones son entradas para el agente de IA de Q-learning, mientras que las posibles acciones son las salidas del agente de IA.\n",
        "#### Estados\n",
        "Los estados del entorno son todas las ubicaciones posibles dentro del almacén. Algunas de estas ubicaciones son para almacenar artículos (**cuadrados negros**), mientras que otras ubicaciones son pasillos que el robot puede usar para viajar por el almacén (**cuadrados blancos**). El **cuadrado verde** indica el área de embalaje y envío del artículo.\n",
        "\n",
        "Los cuadrados negros y verdes son **estados terminales**!\n",
        "\n",
        "![warehouse map](https://www.danielsoper.com/teaching/img/08-warehouse-map.png)\n",
        "\n",
        "El objetivo del agente de IA es aprender el camino más corto entre el área de empaque del artículo y todas las demás ubicaciones en el almacén donde el robot puede viajar.\n",
        "\n",
        "Como se muestra en la imagen de arriba, hay 121 estados posibles (ubicaciones) dentro del almacén. Estos estados están dispuestos en una cuadrícula que contiene 11 filas y 11 columnas. Por lo tanto, cada ubicación puede identificarse por su índice de fila y columna."
      ]
    },
    {
      "cell_type": "code",
      "execution_count": null,
      "metadata": {
        "id": "9AdpFVfy6ya9"
      },
      "outputs": [],
      "source": [
        "#definir la forma del ambiente (i.e., los estados)\n",
        "environment_rows = 11\n",
        "environment_columns = 11\n",
        "\n",
        "#Cree una matriz numérica 3D para contener los valores Q actuales para cada par de estado y acción: Q(s, a)\n",
        "#La matriz contiene 11 filas y 11 columnas (para que coincida con la forma del entorno), así como una\n",
        "#tercera dimensión de \"acción\". La dimensión \"acción\" consta de 4 capas que nos permitirán realizar un\n",
        "#seguimiento de los valores Q para cada acción posible en cada estado (consulte la siguiente celda para\n",
        "#obtener una descripción de las posibles acciones).\n",
        "#El valor de cada par (estado, acción) se inicializa en 0.\n",
        "\n",
        "q_values = np.zeros((environment_rows, environment_columns, 4))"
      ]
    },
    {
      "cell_type": "markdown",
      "metadata": {
        "id": "07gGSNz07xtP"
      },
      "source": [
        "#### Acciones\n",
        "Las acciones que están disponibles para el agente son moverse en una de cuatro direcciones:\n",
        "* Arriba\n",
        "* Derecha\n",
        "* Abajo\n",
        "* Izquierda\n",
        "\n",
        "¡Obviamente, el agente debe aprender a evitar conducir a las ubicaciones de almacenamiento de artículos (por ejemplo, estantes)!"
      ]
    },
    {
      "cell_type": "code",
      "execution_count": null,
      "metadata": {
        "id": "z43QX_t080q3"
      },
      "outputs": [],
      "source": [
        "#definir acciones\n",
        "#codigo numérico de las acciones: 0 = Arriba, 1 = Derecha, 2 = Abajo, 3 = Izquierda\n",
        "actions = ['up', 'right', 'down', 'left']"
      ]
    },
    {
      "cell_type": "markdown",
      "metadata": {
        "id": "X25vn4VKw2as"
      },
      "source": [
        "#### Recompensas\n",
        "El último componente del entorno que necesitamos definir son las **recompensas**.\n",
        "\n",
        "Para ayudar al agente de IA a aprender, a cada estado (ubicación) en el almacén se le asigna un valor de recompensa.\n",
        "\n",
        "El agente puede comenzar en cualquier casilla blanca, pero su objetivo es siempre el mismo: ¡***maximizar sus recompensas totales***!\n",
        "\n",
        "Las recompensas negativas (es decir, **castigos**) se utilizan para todos los estados excepto el objetivo.\n",
        "* ¡Esto alienta a la IA a identificar el *camino más corto* hacia la meta al *minimizar sus castigos*!\n",
        "\n",
        "![warehouse map](https://www.danielsoper.com/teaching/img/08-warehouse-map-rewards.png)\n",
        "\n",
        "Para maximizar sus recompensas acumulativas (al minimizar sus castigos acumulativos), el agente de IA deberá encontrar los caminos más cortos entre el área de empaque del artículo (cuadrado verde) y todas las demás ubicaciones en el almacén donde el robot puede viajar (cuadrados blancos). ). ¡El agente también deberá aprender a evitar chocar contra cualquiera de las ubicaciones de almacenamiento de artículos (cuadrados negros)!"
      ]
    },
    {
      "cell_type": "code",
      "execution_count": null,
      "metadata": {
        "id": "GIJu7XsLXw62",
        "outputId": "676defe0-764b-4ae3-9dbb-29ff339237cf"
      },
      "outputs": [
        {
          "name": "stdout",
          "output_type": "stream",
          "text": [
            "[-100. -100. -100. -100. -100.  100. -100. -100. -100. -100. -100.]\n",
            "[-100.   -1.   -1.   -1.   -1.   -1.   -1.   -1.   -1.   -1. -100.]\n",
            "[-100.   -1. -100. -100. -100. -100. -100.   -1. -100.   -1. -100.]\n",
            "[-100.   -1.   -1.   -1.   -1.   -1.   -1.   -1. -100.   -1. -100.]\n",
            "[-100. -100. -100.   -1. -100. -100. -100.   -1. -100. -100. -100.]\n",
            "[-1. -1. -1. -1. -1. -1. -1. -1. -1. -1. -1.]\n",
            "[-100. -100. -100. -100. -100.   -1. -100. -100. -100. -100. -100.]\n",
            "[-100.   -1.   -1.   -1.   -1.   -1.   -1.   -1.   -1.   -1. -100.]\n",
            "[-100. -100. -100.   -1. -100. -100. -100.   -1. -100. -100. -100.]\n",
            "[-1. -1. -1. -1. -1. -1. -1. -1. -1. -1. -1.]\n",
            "[-100. -100. -100. -100. -100. -100. -100. -100. -100. -100. -100.]\n"
          ]
        }
      ],
      "source": [
        "#Crear un arreglo 2D de numpy para almacenar las recompensas de cada estado\n",
        "rewards = np.full((environment_rows, environment_columns), -100.)\n",
        "rewards[0, 5] = 100. #Recompensa para el area de embalaje (i.e., el objetivo) damos valor de 100\n",
        "\n",
        "#Definir los estados por donde se puede transitar de acuerdo a la figura\n",
        "aisles = {} #guardo las localizaciones de la zona transitable en un diccionario\n",
        "aisles[1] = [i for i in range(1, 10)]\n",
        "aisles[2] = [1, 7, 9]\n",
        "aisles[3] = [i for i in range(1, 8)]\n",
        "aisles[3].append(9)\n",
        "aisles[4] = [3, 7]\n",
        "aisles[5] = [i for i in range(11)]\n",
        "aisles[6] = [5]\n",
        "aisles[7] = [i for i in range(1, 10)]\n",
        "aisles[8] = [3, 7]\n",
        "aisles[9] = [i for i in range(11)]\n",
        "\n",
        "#Recompensa de los pasillos (cuadros blancos) -1\n",
        "for row_index in range(1, 10):\n",
        "    for column_index in aisles[row_index]:\n",
        "        rewards[row_index, column_index] = -1\n",
        "\n",
        "#Imprimo la matriz de recompensas\n",
        "for row in rewards:\n",
        "    print(row)"
      ]
    },
    {
      "cell_type": "markdown",
      "metadata": {
        "id": "GFEor01iCCin"
      },
      "source": [
        "## Entrenar al modelo\n",
        "Nuestra próxima tarea es que nuestro agente de IA aprenda sobre su entorno mediante la implementación de un modelo Q-learning. El proceso de aprendizaje seguirá estos pasos:\n",
        "1. Elija un estado no terminal aleatorio (cuadrado blanco) para que el agente comience este nuevo episodio.\n",
        "2. Elija una acción (mover *arriba*, *derecha*, *abajo* o *izquierda*) para el estado actual. Las acciones se elegirán utilizando un *algoritmo voraz epsilon*. Este algoritmo generalmente elegirá la acción más prometedora para el agente de IA, pero ocasionalmente elegirá una opción menos prometedora para alentar al agente a explorar el entorno.\n",
        "3. Realice la acción elegida y haga la transición al siguiente estado (es decir, muévase a la siguiente ubicación).\n",
        "4. Reciba la recompensa por mudarse al nuevo estado y calcule la diferencia temporal.\n",
        "5. Actualice el valor Q para el par de acción y estado anterior.\n",
        "6. Si el nuevo estado (actual) es un estado terminal, vaya al #1. De lo contrario, vaya al #2.\n",
        "\n",
        "Todo este proceso se repetirá a lo largo de 1000 episodios. Esto brindará al agente de IA la oportunidad suficiente para aprender los caminos más cortos entre el área de empaque del artículo y todas las demás ubicaciones en el almacén donde el robot puede viajar, ¡mientras que al mismo tiempo evita chocar contra cualquiera de las ubicaciones de almacenamiento de artículos!\n",
        "\n",
        "#### Definir funciones auxiliares"
      ]
    },
    {
      "cell_type": "code",
      "execution_count": null,
      "metadata": {
        "id": "DnCfO5tVG0LJ"
      },
      "outputs": [],
      "source": [
        "#función que determina si estoy en un estado terminal\n",
        "def is_terminal_state(current_row_index, current_column_index):\n",
        "  #Si la recompensa para esta localización es -1 no estoy en un estado terminal (i.e., es un 'cuadro blanco')\n",
        "  if rewards[current_row_index, current_column_index] == -1.:\n",
        "    return False\n",
        "  else:\n",
        "    return True\n",
        "\n",
        "#definir la función que escoge una localización aleatoria no terminal inicial\n",
        "def get_starting_location():\n",
        "    #fila y columna aleatoria\n",
        "    current_row_index = np.random.randint(environment_rows)\n",
        "    current_column_index = np.random.randint(environment_columns)\n",
        "    #continuar escogiendo aleatoriamente hasta encontrar un estado no temrinal\n",
        "    while is_terminal_state(current_row_index, current_column_index):\n",
        "        current_row_index = np.random.randint(environment_rows)\n",
        "        current_column_index = np.random.randint(environment_columns)\n",
        "    return current_row_index, current_column_index\n",
        "\n",
        "#defino un algoritmo epsilon greedy para elegir la siguiente accion (i.e., donde moverme)\n",
        "def get_next_action(current_row_index, current_column_index, epsilon):\n",
        "    #Si un numero aleatorio es menor que epsilon, escoger el mejor valor de la tabla Q para este estado\n",
        "    if np.random.random() < epsilon:\n",
        "        return np.argmax(q_values[current_row_index, current_column_index])\n",
        "    else: #de lo contrario escoja aleatoriamente\n",
        "        return np.random.randint(4)\n",
        "\n",
        "#función que nos lleva al siguiente estado basado en la accion tomada\n",
        "def get_next_location(current_row_index, current_column_index, action_index):\n",
        "    new_row_index = current_row_index\n",
        "    new_column_index = current_column_index\n",
        "    if actions[action_index] == 'up' and current_row_index > 0:\n",
        "        new_row_index -= 1\n",
        "    elif actions[action_index] == 'right' and current_column_index < environment_columns - 1:\n",
        "        new_column_index += 1\n",
        "    elif actions[action_index] == 'down' and current_row_index < environment_rows - 1:\n",
        "        new_row_index += 1\n",
        "    elif actions[action_index] == 'left' and current_column_index > 0:\n",
        "        new_column_index -= 1\n",
        "    return new_row_index, new_column_index\n",
        "\n",
        "#Definir una función que obtendrá la ruta más corta entre cualquier ubicación dentro del almacén que\n",
        "#el robot puede viajar y la ubicación del embalaje del artículo.\n",
        "def get_shortest_path(start_row_index, start_column_index):\n",
        "    #Si no es una posición valida retornar inmediatamente\n",
        "    if is_terminal_state(start_row_index, start_column_index):\n",
        "        return []\n",
        "    else: #Si es una localización legal\n",
        "        current_row_index, current_column_index = start_row_index, start_column_index\n",
        "        shortest_path = []\n",
        "        shortest_path.append([current_row_index, current_column_index])\n",
        "        #continuar moviendose a lo largo del camino hasta llegar al objetivo (i.e., localización del empaquetador)\n",
        "        while not is_terminal_state(current_row_index, current_column_index):\n",
        "            #tomo la mejor accion\n",
        "            action_index = get_next_action(current_row_index, current_column_index, 1.)\n",
        "            #me muevo a la siguiente localización del camino más corto y agrego la nueva localizacion a la lista\n",
        "            current_row_index, current_column_index = get_next_location(current_row_index, current_column_index, action_index)\n",
        "            shortest_path.append([current_row_index, current_column_index])\n",
        "    return shortest_path"
      ]
    },
    {
      "cell_type": "markdown",
      "metadata": {
        "id": "pjl9niKEqONs"
      },
      "source": [
        "#### Train the AI Agent using Q-Learning"
      ]
    },
    {
      "cell_type": "code",
      "execution_count": null,
      "metadata": {
        "id": "3N5BB0m0JHIn",
        "outputId": "83e29da1-6d36-48d5-fd40-d5e1ec3fbc9e"
      },
      "outputs": [
        {
          "name": "stdout",
          "output_type": "stream",
          "text": [
            "Entrenamiento Completo!\n"
          ]
        }
      ],
      "source": [
        "#Parametros de entrenamiento\n",
        "epsilon = 0.9 #del algoritmo epsilon greedy\n",
        "discount_factor = 0.9 #factor de descuento de recompensa futura\n",
        "learning_rate = 0.9 #tasa de aprendizaje\n",
        "\n",
        "#1000 episodes de entrenamiento\n",
        "for episode in range(1000):\n",
        "    #localización de inicio\n",
        "    row_index, column_index = get_starting_location()\n",
        "\n",
        "    # continuar tomando acciones (es decir, moviéndose) hasta que lleguemos a un estado terminal\n",
        "    # (es decir, hasta que lleguemos al área de empaque del artículo o nos estrellemos contra una\n",
        "    # ubicación de almacenamiento del artículo)\n",
        "    while not is_terminal_state(row_index, column_index):\n",
        "        #elegir accion\n",
        "        action_index = get_next_action(row_index, column_index, epsilon)\n",
        "\n",
        "        #realizar la acción escogida y transitar al siguiente estado\n",
        "        old_row_index, old_column_index = row_index, column_index #almaceno los indices viejos\n",
        "        row_index, column_index = get_next_location(row_index, column_index, action_index)\n",
        "\n",
        "        #recibo recompensa por moverme al siguiente estado y calculo los elementos de la funcion Q\n",
        "        reward = rewards[row_index, column_index]\n",
        "        old_q_value = q_values[old_row_index, old_column_index, action_index]\n",
        "        temporal_difference = reward + (discount_factor * np.max(q_values[row_index, column_index])) - old_q_value\n",
        "\n",
        "        #Actualizo el valor Q\n",
        "        new_q_value = old_q_value + (learning_rate * temporal_difference)\n",
        "        q_values[old_row_index, old_column_index, action_index] = new_q_value\n",
        "\n",
        "print('Entrenamiento Completo!')"
      ]
    },
    {
      "cell_type": "markdown",
      "metadata": {
        "id": "-JqQfjYdfyBh"
      },
      "source": [
        "## Obtenga las rutas más cortas\n",
        "Ahora que el agente de IA ha sido completamente capacitado, podemos ver lo que ha aprendido al mostrar la ruta más corta entre cualquier ubicación en el almacén donde el robot puede viajar y el área de empaque del artículo.\n",
        "\n",
        "![warehouse map](https://www.danielsoper.com/teaching/img/08-warehouse-map.png)\n"
      ]
    },
    {
      "cell_type": "code",
      "execution_count": null,
      "metadata": {
        "id": "F1YO3mj_oS2J",
        "outputId": "597e9754-d2fa-4936-c8d0-6015b2aa5189"
      },
      "outputs": [
        {
          "name": "stdout",
          "output_type": "stream",
          "text": [
            "[[3, 9], [2, 9], [1, 9], [1, 8], [1, 7], [1, 6], [1, 5], [0, 5]]\n",
            "[[5, 0], [5, 1], [5, 2], [5, 3], [5, 4], [5, 5], [5, 6], [5, 7], [4, 7], [3, 7], [2, 7], [1, 7], [1, 6], [1, 5], [0, 5]]\n",
            "[[9, 5], [9, 4], [9, 3], [8, 3], [7, 3], [7, 4], [7, 5], [6, 5], [5, 5], [5, 6], [5, 7], [4, 7], [3, 7], [2, 7], [1, 7], [1, 6], [1, 5], [0, 5]]\n"
          ]
        }
      ],
      "source": [
        "#Mostrar algunas rutas más cortas\n",
        "print(get_shortest_path(3, 9)) #comenzando en fila 3, columna 9\n",
        "print(get_shortest_path(5, 0)) # fila 5, columna 0\n",
        "print(get_shortest_path(9, 5)) # fila 9, columna 5"
      ]
    },
    {
      "cell_type": "markdown",
      "metadata": {
        "id": "tWx7BsJxqrDv"
      },
      "source": [
        "#### Finalmente...\n",
        "Es genial que nuestro robot pueda tomar automáticamente el camino más corto desde cualquier ubicación 'legal' en el almacén hasta el área de empaque del artículo. **Pero, ¿qué pasa con el escenario opuesto?**\n",
        "\n",
        "Dicho de otra manera, nuestro robot actualmente puede entregar un artículo desde cualquier lugar del almacén ***a*** el área de embalaje, pero después de entregar el artículo, deberá viajar ***desde*** el área de embalaje a otra ubicación en el almacén para recoger el siguiente artículo!\n",
        "\n",
        "No se preocupe, este problema se resuelve fácilmente ***invirtiendo el orden de la ruta más corta***.\n",
        "\n",
        "Ejecute la siguiente celda de código para ver un ejemplo:"
      ]
    },
    {
      "cell_type": "code",
      "execution_count": null,
      "metadata": {
        "id": "fKun8LInsas9",
        "outputId": "54ba780d-3443-4e53-b67e-dea73eb6780d"
      },
      "outputs": [
        {
          "name": "stdout",
          "output_type": "stream",
          "text": [
            "[[0, 5], [1, 5], [1, 6], [1, 7], [2, 7], [3, 7], [4, 7], [5, 7], [5, 6], [5, 5], [5, 4], [5, 3], [5, 2]]\n"
          ]
        }
      ],
      "source": [
        "#muestre el camino más corto al revés\n",
        "path = get_shortest_path(5, 2) # fila 5, columna 2\n",
        "path.reverse()\n",
        "print(path)"
      ]
    }
  ],
  "metadata": {
    "colab": {
      "provenance": []
    },
    "kernelspec": {
      "display_name": "Python 3 (ipykernel)",
      "language": "python",
      "name": "python3"
    },
    "language_info": {
      "codemirror_mode": {
        "name": "ipython",
        "version": 3
      },
      "file_extension": ".py",
      "mimetype": "text/x-python",
      "name": "python",
      "nbconvert_exporter": "python",
      "pygments_lexer": "ipython3",
      "version": "3.10.6"
    }
  },
  "nbformat": 4,
  "nbformat_minor": 0
}