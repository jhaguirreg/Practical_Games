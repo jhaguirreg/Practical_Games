{
  "cells": [
    {
      "cell_type": "markdown",
      "id": "adf8264f",
      "metadata": {
        "id": "adf8264f"
      },
      "source": [
        "# Problema de las 8 reinas\n",
        "\n",
        "Realice la implementación del problema de las 8 reinas usando Algoritmos Genéticos"
      ]
    },
    {
      "cell_type": "code",
      "execution_count": null,
      "id": "c07aeb69",
      "metadata": {
        "id": "c07aeb69"
      },
      "outputs": [],
      "source": [
        "import numpy as np\n",
        "import matplotlib.pyplot as plt"
      ]
    },
    {
      "cell_type": "code",
      "execution_count": null,
      "id": "4587e3b4",
      "metadata": {
        "id": "4587e3b4"
      },
      "outputs": [],
      "source": [
        "def poblacion_inicial(tamano_de_poblacion):\n",
        "    # Debe retornar una matriz de (tamaño de poblacion, 8)\n",
        "    # Cada fila de la matriz representa un individuo con su gen de 8 elementos\n",
        "\n",
        "    cantidad_reinas = 8\n",
        "    poblacion=np.random.randint(low=1,high=9,size=(tamano_de_poblacion,cantidad_reinas))#tablero\n",
        "\n",
        "    return poblacion"
      ]
    },
    {
      "cell_type": "code",
      "execution_count": null,
      "id": "8c81b0d8",
      "metadata": {
        "id": "8c81b0d8"
      },
      "outputs": [],
      "source": [
        "def funcion_idoneidad(poblacion):\n",
        "    # Debe retornar un vector de tamaño (tamaño poblacion) en el que cada elemento del vector\n",
        "    # es el valor de idoneidad cada individuo\n",
        "\n",
        "    ataques_posibles=28\n",
        "\n",
        "    idoneidad=np.zeros(len(poblacion))\n",
        "\n",
        "    for indice_candidato in range(len(poblacion)):\n",
        "      ataques=0\n",
        "      for i in range(len(poblacion[0])):\n",
        "        for j in range(i+1,len(poblacion[0])):\n",
        "          if poblacion[indice_candidato,i]==poblacion[indice_candidato,j]:\n",
        "            ataques += 1\n",
        "          if abs(poblacion[indice_candidato,i]-poblacion[indice_candidato,j])==j-i:\n",
        "            ataques += 1\n",
        "      idoneidad[indice_candidato]=ataques_posibles-ataques\n",
        "\n",
        "    return idoneidad"
      ]
    },
    {
      "cell_type": "code",
      "execution_count": null,
      "id": "0b067d39",
      "metadata": {
        "id": "0b067d39"
      },
      "outputs": [],
      "source": [
        "def seleccion(poblacion,fun_idoneidad):\n",
        "  ponderados = fun_idoneidad/np.sum(fun_idoneidad)\n",
        "\n",
        "  indice1,indice2= np.random.choice(len(ponderados),size=2,p=ponderados,replace=False)\n",
        "  return poblacion[indice1,:],poblacion[indice2,:]"
      ]
    },
    {
      "cell_type": "code",
      "execution_count": null,
      "id": "b0f606bd",
      "metadata": {
        "id": "b0f606bd"
      },
      "outputs": [],
      "source": [
        "def cross_over(padre1,padre2):\n",
        "  # Retorna los dos hijos producto del cross-over entre padre1 y padre2\n",
        "  indice=np.random.choice(range(len(padre1)),1)[0]\n",
        "\n",
        "  hijo1=np.concatenate((padre1[:indice],padre2[indice:]))\n",
        "  hijo2=np.concatenate((padre2[:indice],padre1[indice:]))\n",
        "\n",
        "  return hijo1,hijo2"
      ]
    },
    {
      "cell_type": "code",
      "execution_count": null,
      "id": "ffe635c4",
      "metadata": {
        "id": "ffe635c4"
      },
      "outputs": [],
      "source": [
        "def mutacion(hijo1,hijo2):\n",
        "  # Retorna los dos hijos mutados\n",
        "  p=0.02\n",
        "\n",
        "  for i in range(len(hijo1)):\n",
        "    r1 = np.random.rand()\n",
        "    r2 = np.random.rand()\n",
        "\n",
        "    if(r1<p):\n",
        "       hijo1[i]=np.random.choice(range(1,len(hijo1)+1),1)[0]\n",
        "\n",
        "    if(r2<p):\n",
        "          hijo2[i]=np.random.choice(range(1,len(hijo2)+1),1)[0]\n",
        "\n",
        "  \"\"\" Otra forma:\n",
        "      cambio1=np.random.choice((True,False),1,p=(p,1-p))[0]\n",
        "      cambio2=np.random.choice((True,False),1,p=(p,1-p))[0]\n",
        "\n",
        "      if cambio1:\n",
        "        hijo1[i]=np.random.choice(range(1,len(hijo1)+1),1)[0]\n",
        "\n",
        "      if cambio2:\n",
        "        hijo2[i]=np.random.choice(range(1,len(hijo2)+1),1)[0]\"\"\"\n",
        "  return hijo1,hijo2\n"
      ]
    },
    {
      "cell_type": "code",
      "execution_count": null,
      "id": "0792480b",
      "metadata": {
        "id": "0792480b",
        "colab": {
          "base_uri": "https://localhost:8080/"
        },
        "outputId": "e4a16085-04f8-4e79-cd80-fd5c135a8bd3"
      },
      "outputs": [
        {
          "output_type": "stream",
          "name": "stdout",
          "text": [
            "Solucion: [[3. 1. 7. 5. 8. 2. 4. 6.]]\n"
          ]
        }
      ],
      "source": [
        "# Loop principal que repite el proceso a través de un número determinado de generaciones\n",
        "tam_poblacion=40 # Debe ser par\n",
        "poblacion=poblacion_inicial(tam_poblacion)\n",
        "\n",
        "idoneidad=funcion_idoneidad(poblacion)\n",
        "\n",
        "promedios=np.array([])\n",
        "nueva_poblacion=np.empty((0,8))\n",
        "\n",
        "\n",
        "if 28 in idoneidad:\n",
        "  indice=np.argwhere(idoneidad==28)\n",
        "  print(f\"Soluciones: {poblacion[indice[0],:]}\")\n",
        "else:\n",
        "  solucion=False\n",
        "\n",
        "while not(solucion):\n",
        "\n",
        "  while len(nueva_poblacion)<len(poblacion):\n",
        "    padre1,padre2=seleccion(poblacion,idoneidad)\n",
        "    hijo1,hijo2=cross_over(padre1,padre2)\n",
        "    hijo1,hijo2=mutacion(hijo1,hijo2)\n",
        "    nueva_poblacion=np.vstack([nueva_poblacion,hijo1])\n",
        "    nueva_poblacion=np.vstack([nueva_poblacion,hijo2])\n",
        "\n",
        "  poblacion=nueva_poblacion.copy()\n",
        "\n",
        "  idoneidad=funcion_idoneidad(poblacion)\n",
        "  promedio_idoneidad=sum(idoneidad)/len(idoneidad)\n",
        "  promedios=np.append(promedios,promedio_idoneidad)\n",
        "  nueva_poblacion=np.empty((0,8))\n",
        "\n",
        "  if 28 in idoneidad:\n",
        "    indice=np.argwhere(idoneidad==28)\n",
        "    print(f\"Solucion: {poblacion[indice[0]]}\")\n",
        "    solucion=True"
      ]
    }
  ],
  "metadata": {
    "kernelspec": {
      "display_name": "Python 3 (ipykernel)",
      "language": "python",
      "name": "python3"
    },
    "language_info": {
      "codemirror_mode": {
        "name": "ipython",
        "version": 3
      },
      "file_extension": ".py",
      "mimetype": "text/x-python",
      "name": "python",
      "nbconvert_exporter": "python",
      "pygments_lexer": "ipython3",
      "version": "3.10.12"
    },
    "colab": {
      "provenance": []
    }
  },
  "nbformat": 4,
  "nbformat_minor": 5
}